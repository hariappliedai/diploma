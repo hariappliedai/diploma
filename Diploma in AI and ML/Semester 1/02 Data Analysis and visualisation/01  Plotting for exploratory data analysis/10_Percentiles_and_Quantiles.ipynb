{
  "nbformat": 4,
  "nbformat_minor": 0,
  "metadata": {
    "colab": {
      "name": "10 Percentiles and Quantiles",
      "provenance": []
    },
    "kernelspec": {
      "display_name": "Python 3",
      "name": "python3"
    }
  },
  "cells": [
    {
      "cell_type": "markdown",
      "metadata": {
        "id": "bFwh4Xi-Ukap"
      },
      "source": [
        "# Percentiles and Quantiles\n",
        "---"
      ]
    },
    {
      "cell_type": "markdown",
      "metadata": {
        "id": "eDllU6t2Un6R"
      },
      "source": [
        "- **Percentile** is the value below which a percentage of data falls.\n",
        "- A **quantile** is where a sample is divided into equal-sized, adjacent, subgroups  \n",
        "mostly we take 25th, 50th, 75th, 100th percentile values as qantiles\n",
        "- Percentiles and quantiles are not impacted by outliers."
      ]
    },
    {
      "cell_type": "code",
      "metadata": {
        "id": "u0lai3QW_aPu"
      },
      "source": [
        "# Downloading dataset\n",
        "!wget https://raw.githubusercontent.com/uiuc-cse/data-fa14/gh-pages/data/iris.csv"
      ],
      "execution_count": null,
      "outputs": []
    },
    {
      "cell_type": "code",
      "metadata": {
        "id": "pD4ax1TT9pq0"
      },
      "source": [
        "# importing necessary libraries\n",
        "import pandas as pd\n",
        "import seaborn as sns\n",
        "import matplotlib.pyplot as plt\n",
        "import numpy as np\n",
        "\n",
        "#Load Iris.csv into a pandas dataFrame.\n",
        "iris = pd.read_csv(\"iris.csv\")"
      ],
      "execution_count": 9,
      "outputs": []
    },
    {
      "cell_type": "code",
      "metadata": {
        "id": "iKhA6wrhEqTc"
      },
      "source": [
        "iris_setosa = iris[iris['species'] == 'setosa']\n",
        "iris_virginica = iris[iris['species'] == 'virginica']\n",
        "iris_versicolor = iris[iris['species'] == 'versicolor']"
      ],
      "execution_count": 10,
      "outputs": []
    },
    {
      "cell_type": "code",
      "metadata": {
        "colab": {
          "base_uri": "https://localhost:8080/"
        },
        "id": "3WriHOV_VN1J",
        "outputId": "594bbd0b-3998-43fc-85bf-5fb674b6b239"
      },
      "source": [
        "print('=======================90 Percentile=========================')\n",
        "print('setosa ----> {}'.format(np.percentile(iris_setosa['petal_length'], 90)))\n",
        "print('versicolor ----> {}'.format(np.percentile(iris_versicolor['petal_length'], 90)))\n",
        "print('virginica ----> {}'.format(np.percentile(iris_virginica['petal_length'], 90)))\n",
        "\n",
        "\n",
        "print('=======================Quantiles=========================')\n",
        "print('setosa ----> {}'.format(np.percentile(iris_setosa['petal_length'], np.arange(0,100,25))))\n",
        "print('versicolor ----> {}'.format(np.percentile(iris_versicolor['petal_length'], np.arange(0,100,25))))\n",
        "print('virginica ----> {}'.format(np.percentile(iris_virginica['petal_length'], np.arange(0,100,25))))"
      ],
      "execution_count": 15,
      "outputs": [
        {
          "output_type": "stream",
          "name": "stdout",
          "text": [
            "=======================90 Percentile=========================\n",
            "setosa ----> 1.7\n",
            "versicolor ----> 4.8\n",
            "virginica ----> 6.3100000000000005\n",
            "=======================Quantiles=========================\n",
            "setosa ----> [1.    1.4   1.5   1.575]\n",
            "versicolor ----> [3.   4.   4.35 4.6 ]\n",
            "virginica ----> [4.5   5.1   5.55  5.875]\n"
          ]
        }
      ]
    }
  ]
}