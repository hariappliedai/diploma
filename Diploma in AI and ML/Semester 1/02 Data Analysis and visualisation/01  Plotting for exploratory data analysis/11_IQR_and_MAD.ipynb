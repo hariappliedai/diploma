{
  "nbformat": 4,
  "nbformat_minor": 0,
  "metadata": {
    "colab": {
      "name": "11 IQR and MAD",
      "provenance": []
    },
    "kernelspec": {
      "display_name": "Python 3",
      "name": "python3"
    }
  },
  "cells": [
    {
      "cell_type": "markdown",
      "metadata": {
        "id": "bFwh4Xi-Ukap"
      },
      "source": [
        "# MAD and IQR\n",
        "---"
      ]
    },
    {
      "cell_type": "code",
      "metadata": {
        "id": "u0lai3QW_aPu"
      },
      "source": [
        "# Downloading dataset\n",
        "!wget https://raw.githubusercontent.com/uiuc-cse/data-fa14/gh-pages/data/iris.csv"
      ],
      "execution_count": null,
      "outputs": []
    },
    {
      "cell_type": "code",
      "metadata": {
        "id": "pD4ax1TT9pq0"
      },
      "source": [
        "# importing necessary libraries\n",
        "import pandas as pd\n",
        "import seaborn as sns\n",
        "import matplotlib.pyplot as plt\n",
        "import numpy as np\n",
        "\n",
        "#Load Iris.csv into a pandas dataFrame.\n",
        "iris = pd.read_csv(\"iris.csv\")"
      ],
      "execution_count": 9,
      "outputs": []
    },
    {
      "cell_type": "code",
      "metadata": {
        "id": "iKhA6wrhEqTc"
      },
      "source": [
        "iris_setosa = iris[iris['species'] == 'setosa']\n",
        "iris_virginica = iris[iris['species'] == 'virginica']\n",
        "iris_versicolor = iris[iris['species'] == 'versicolor']"
      ],
      "execution_count": 10,
      "outputs": []
    },
    {
      "cell_type": "markdown",
      "metadata": {
        "id": "jz0cacC2gRKt"
      },
      "source": [
        "## MAD (Median Absolute Deviation)"
      ]
    },
    {
      "cell_type": "markdown",
      "metadata": {
        "id": "94oKh20wg4oX"
      },
      "source": [
        "MAD w.r.t Median is equivalent to std-dev w.r.t Mean.  \n",
        "![image.png](data:image/png;base64,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)"
      ]
    },
    {
      "cell_type": "code",
      "metadata": {
        "colab": {
          "base_uri": "https://localhost:8080/"
        },
        "id": "3WriHOV_VN1J",
        "outputId": "ab24e9ec-8c13-445e-ddf2-13c84aff7450"
      },
      "source": [
        "from statsmodels import robust\n",
        "\n",
        "print('=======================MAD=========================')\n",
        "print('setosa ----> {}'.format(robust.mad(iris_setosa['petal_length'])))\n",
        "print('versicolor ----> {}'.format(robust.mad(iris_versicolor['petal_length'])))\n",
        "print('virginica ----> {}'.format(robust.mad(iris_virginica['petal_length'])))"
      ],
      "execution_count": 18,
      "outputs": [
        {
          "output_type": "stream",
          "name": "stdout",
          "text": [
            "=======================MAD=========================\n",
            "setosa ----> 0.14826022185056031\n",
            "versicolor ----> 0.5189107764769602\n",
            "virginica ----> 0.6671709983275211\n"
          ]
        }
      ]
    },
    {
      "cell_type": "markdown",
      "metadata": {
        "id": "P5mCq3HxhuHF"
      },
      "source": [
        "## Inter Quartile Range (mid spread)"
      ]
    },
    {
      "cell_type": "markdown",
      "metadata": {
        "id": "-i0Js_oRiEdy"
      },
      "source": [
        "The IQR describes the middle 50% of values when ordered from lowest to highest. that is data from 25 percentile to 75 percentile."
      ]
    }
  ]
}