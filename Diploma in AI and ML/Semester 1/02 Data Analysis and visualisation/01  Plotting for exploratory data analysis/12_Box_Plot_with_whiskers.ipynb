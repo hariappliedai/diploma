{
  "nbformat": 4,
  "nbformat_minor": 0,
  "metadata": {
    "colab": {
      "name": "12 Box Plot with whiskers",
      "provenance": []
    },
    "kernelspec": {
      "display_name": "Python 3",
      "name": "python3"
    }
  },
  "cells": [
    {
      "cell_type": "markdown",
      "metadata": {
        "id": "bFwh4Xi-Ukap"
      },
      "source": [
        "# Box Plot\n",
        "---"
      ]
    },
    {
      "cell_type": "code",
      "metadata": {
        "id": "u0lai3QW_aPu"
      },
      "source": [
        "# Downloading dataset\n",
        "!wget https://raw.githubusercontent.com/uiuc-cse/data-fa14/gh-pages/data/iris.csv"
      ],
      "execution_count": null,
      "outputs": []
    },
    {
      "cell_type": "code",
      "metadata": {
        "id": "pD4ax1TT9pq0"
      },
      "source": [
        "# importing necessary libraries\n",
        "import pandas as pd\n",
        "import seaborn as sns\n",
        "import matplotlib.pyplot as plt\n",
        "from matplotlib import rcParams\n",
        "import numpy as np\n",
        "\n",
        "#Load Iris.csv into a pandas dataFrame.\n",
        "iris = pd.read_csv(\"iris.csv\")"
      ],
      "execution_count": 22,
      "outputs": []
    },
    {
      "cell_type": "code",
      "metadata": {
        "colab": {
          "base_uri": "https://localhost:8080/",
          "height": 328
        },
        "id": "L1qrv724mZvY",
        "outputId": "1ce04d6c-daac-4fd8-d905-3fe5c6eac220"
      },
      "source": [
        "sns.set_theme(style=\"whitegrid\")\n",
        "rcParams['figure.figsize'] = 6.4,4.8\n",
        "sns.boxplot(x = 'species', y = 'petal_length', data = iris)\n",
        "plt.show()"
      ],
      "execution_count": 35,
      "outputs": [
        {
          "output_type": "display_data",
          "data": {
            "image/png": "[encoded data removed]",
            "text/plain": [
              "<Figure size 460.8x345.6 with 1 Axes>"
            ]
          },
          "metadata": {}
        }
      ]
    }
  ]
}