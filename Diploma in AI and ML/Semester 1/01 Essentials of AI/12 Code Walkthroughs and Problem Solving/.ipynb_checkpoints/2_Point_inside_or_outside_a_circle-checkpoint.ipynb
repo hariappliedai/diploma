{
  "nbformat": 4,
  "nbformat_minor": 0,
  "metadata": {
    "colab": {
      "name": "2 Point inside or outside a circle.ipynb",
      "provenance": [],
      "authorship_tag": "ABX9TyNStEMzLk259oRpbdbmhoj8"
    },
    "kernelspec": {
      "name": "python3",
      "display_name": "Python 3"
    },
    "language_info": {
      "name": "python"
    }
  },
  "cells": [
    {
      "cell_type": "markdown",
      "metadata": {
        "id": "6lRyhkK--IPi"
      },
      "source": [
        "### Problem 2: Find if a given 2D-point is inside (or) outside a circle \n",
        "    - Subproblems.\n",
        "    - Subproblems --> coding concepts.\n",
        "    - putting it all together.\n",
        "    - Exercise: Find if a given 2D point is inside (or) outside a rectangle ? \n",
        "   "
      ]
    },
    {
      "cell_type": "code",
      "metadata": {
        "colab": {
          "base_uri": "https://localhost:8080/"
        },
        "id": "-kvSzIFh31JP",
        "outputId": "f564b6e8-31e8-48e0-ef39-c5791789ffc1"
      },
      "source": [
        "Cx, Cy, r = input('Enter Cx, Cy, r: ').split()\n",
        "\n",
        "print(Cx, Cy, r)"
      ],
      "execution_count": null,
      "outputs": [
        {
          "output_type": "stream",
          "name": "stdout",
          "text": [
            "Enter Cx, Cy, r: 0.0 0.0 5.0\n",
            "0.0 0.0 5.0\n"
          ]
        }
      ]
    },
    {
      "cell_type": "code",
      "metadata": {
        "colab": {
          "base_uri": "https://localhost:8080/"
        },
        "id": "XDhAmc9j5dz2",
        "outputId": "9cb5fb89-c5bf-4d56-ee08-308ebfbacbdd"
      },
      "source": [
        "Px, Py = input('Enter Px, Py: ').split()\n",
        "print(Px, Py)\n",
        "\n",
        "# Converting sring to float\n",
        "Cx = float(Cx)\n",
        "Cy = float(Cy)\n",
        "r = float(r)\n",
        "Px = float(Px)\n",
        "Py = float(Py)\n",
        "\n",
        "# condition check for pint inside cicle using cicle equation\n",
        "if ((Cx-Px)**2 + (Cy-Py)**2) < r**2:\n",
        "    print('Point is inside the circle')\n",
        "else:\n",
        "    print('Point is outside the circle')"
      ],
      "execution_count": null,
      "outputs": [
        {
          "output_type": "stream",
          "name": "stdout",
          "text": [
            "Enter Px, Py: -4 2\n",
            "-4 2\n",
            "Point is inside the circle\n"
          ]
        }
      ]
    }
  ]
}