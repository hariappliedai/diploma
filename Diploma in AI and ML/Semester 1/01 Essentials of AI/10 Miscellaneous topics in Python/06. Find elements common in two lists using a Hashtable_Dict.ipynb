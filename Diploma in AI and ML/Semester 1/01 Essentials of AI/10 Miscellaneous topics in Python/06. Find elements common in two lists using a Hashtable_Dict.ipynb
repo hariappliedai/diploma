{
  "nbformat": 4,
  "nbformat_minor": 0,
  "metadata": {
    "colab": {
      "name": "06. Find elements common in two lists using a Hashtable/Dict.ipynb",
      "provenance": [],
      "collapsed_sections": [],
      "authorship_tag": "ABX9TyNKxQCJ9xej0+r4EyjrQmOt"
    },
    "kernelspec": {
      "name": "python3",
      "display_name": "Python 3"
    },
    "language_info": {
      "name": "python"
    }
  },
  "cells": [
    {
      "cell_type": "markdown",
      "metadata": {
        "id": "zS9Gf6qelpNE"
      },
      "source": [
        "# Problem\n",
        "\n",
        "Given two list our task isto find the elements which are common in both the list and print them"
      ]
    },
    {
      "cell_type": "markdown",
      "metadata": {
        "id": "KzVbTCC-oyoK"
      },
      "source": [
        "### Better way"
      ]
    },
    {
      "cell_type": "code",
      "metadata": {
        "id": "Sx7j1g_No1vk"
      },
      "source": [
        "def printCommonElements(lst1, lst2):\n",
        "    dict1 = {}\n",
        "    for i in lst1:\n",
        "        dict1[i] = 1\n",
        "    for i in lst2:\n",
        "        if dict1.get(i) != None:\n",
        "            print(i)"
      ],
      "execution_count": 9,
      "outputs": []
    },
    {
      "cell_type": "code",
      "metadata": {
        "colab": {
          "base_uri": "https://localhost:8080/"
        },
        "id": "j9UUl9Dsm2f9",
        "outputId": "e6c1ad8e-4cce-44f4-ab29-15c0f4617cc8"
      },
      "source": [
        "lst1 = [1,5,9,6,3]\n",
        "lst2 = [6,0,3,8,2]\n",
        "\n",
        "printCommonElements(lst1, lst2)"
      ],
      "execution_count": 10,
      "outputs": [
        {
          "output_type": "stream",
          "name": "stdout",
          "text": [
            "6\n",
            "3\n"
          ]
        }
      ]
    },
    {
      "cell_type": "markdown",
      "metadata": {
        "id": "iUcBUyIgnYG0"
      },
      "source": [
        "### Analysis:\n",
        "\n",
        "> Time complexity: O(max(m,n))\n",
        "\n",
        "where m:length of lst1 and n:length of lst 2\n",
        "\n",
        "> Space complexity: O(min(m,n))"
      ]
    }
  ]
}